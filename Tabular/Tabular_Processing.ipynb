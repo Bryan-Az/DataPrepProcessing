{
 "cells": [
  {
   "cell_type": "code",
   "execution_count": 167,
   "outputs": [],
   "source": [
    "import re\n",
    "\n",
    "import pandas as pd\n",
    "import os\n",
    "import zipfile\n",
    "\n",
    "# Path to the zip file\n",
    "zip_path = './Grocery_Data.zip'\n",
    "# Temporary directory to extract files\n",
    "extract_dir = './Grocery_Data'\n",
    "\n",
    "# Ensure the extract directory exists\n",
    "os.makedirs(extract_dir, exist_ok=True)"
   ],
   "metadata": {
    "collapsed": false,
    "pycharm": {
     "name": "#%%\n"
    }
   }
  },
  {
   "cell_type": "markdown",
   "source": [
    "# Extracting the data"
   ],
   "metadata": {
    "collapsed": false,
    "pycharm": {
     "name": "#%% md\n"
    }
   }
  },
  {
   "cell_type": "code",
   "execution_count": 168,
   "outputs": [],
   "source": [
    "epicerie_products = None\n",
    "epicerie_metadata = None\n",
    "# Open the zip file\n",
    "with zipfile.ZipFile(zip_path, 'r') as zip_ref:\n",
    "    # Extract all the contents into the directory\n",
    "    zip_ref.extractall(extract_dir)\n",
    "\n",
    "    # Assuming you know the name of the file you want to read, or there's only one file\n",
    "    # You could also iterate over all files if needed\n",
    "    file_names = zip_ref.namelist()\n",
    "    for file_name in file_names:\n",
    "        full_file_path = os.path.join(extract_dir, file_name)\n",
    "        # Construct the full path to the extracted file\n",
    "        if ((file_name == 'products_raw_data.csv') == 1) or ((file_name == 'products_data.csv')):\n",
    "            if (file_name == 'products_raw_data.csv') == 1:\n",
    "                epicerie_metadata = pd.read_csv(full_file_path, sep=',')\n",
    "\n",
    "            if (file_name == 'products_data.csv') == 1:\n",
    "                epicerie_products = pd.read_csv(full_file_path, sep=',')"
   ],
   "metadata": {
    "collapsed": false,
    "pycharm": {
     "name": "#%%\n"
    }
   }
  },
  {
   "cell_type": "code",
   "execution_count": 169,
   "outputs": [
    {
     "data": {
      "text/plain": "                              Name Current Price Previous Price  \\\n0                 English Cucumber          1.99           1.99   \n1                      Green Onion          1.29           1.29   \n2  Bi-Colour Corn, Corn on the Cob          0.99           0.99   \n3            Romaine Heart, 3 Pack          6.00           6.00   \n4                  Red Peppers              2.38           2.38   \n\n  Price Per Each          Category      Product ID  \\\n0      $1.99/1ea  Fresh Vegetables  20070132001_EA   \n1      $1.29/1ea  Fresh Vegetables  20107500001_EA   \n2      $0.99/1ea  Fresh Vegetables  20131170001_EA   \n3      $2.00/1ea  Fresh Vegetables  20067389001_EA   \n4      $9.90/1kg  Fresh Vegetables  20007535001_KG   \n\n                                         Product URL Amount  Units  \n0  https://www.realcanadiansuperstore.ca/english-...      1     ea  \n1  https://www.realcanadiansuperstore.ca/green-on...      1  bunch  \n2  https://www.realcanadiansuperstore.ca/bi-colou...      1     ea  \n3  https://www.realcanadiansuperstore.ca/romaine-...      3   pack  \n4  https://www.realcanadiansuperstore.ca/red-pepp...      1     ea  ",
      "text/html": "<div>\n<style scoped>\n    .dataframe tbody tr th:only-of-type {\n        vertical-align: middle;\n    }\n\n    .dataframe tbody tr th {\n        vertical-align: top;\n    }\n\n    .dataframe thead th {\n        text-align: right;\n    }\n</style>\n<table border=\"1\" class=\"dataframe\">\n  <thead>\n    <tr style=\"text-align: right;\">\n      <th></th>\n      <th>Name</th>\n      <th>Current Price</th>\n      <th>Previous Price</th>\n      <th>Price Per Each</th>\n      <th>Category</th>\n      <th>Product ID</th>\n      <th>Product URL</th>\n      <th>Amount</th>\n      <th>Units</th>\n    </tr>\n  </thead>\n  <tbody>\n    <tr>\n      <th>0</th>\n      <td>English Cucumber</td>\n      <td>1.99</td>\n      <td>1.99</td>\n      <td>$1.99/1ea</td>\n      <td>Fresh Vegetables</td>\n      <td>20070132001_EA</td>\n      <td>https://www.realcanadiansuperstore.ca/english-...</td>\n      <td>1</td>\n      <td>ea</td>\n    </tr>\n    <tr>\n      <th>1</th>\n      <td>Green Onion</td>\n      <td>1.29</td>\n      <td>1.29</td>\n      <td>$1.29/1ea</td>\n      <td>Fresh Vegetables</td>\n      <td>20107500001_EA</td>\n      <td>https://www.realcanadiansuperstore.ca/green-on...</td>\n      <td>1</td>\n      <td>bunch</td>\n    </tr>\n    <tr>\n      <th>2</th>\n      <td>Bi-Colour Corn, Corn on the Cob</td>\n      <td>0.99</td>\n      <td>0.99</td>\n      <td>$0.99/1ea</td>\n      <td>Fresh Vegetables</td>\n      <td>20131170001_EA</td>\n      <td>https://www.realcanadiansuperstore.ca/bi-colou...</td>\n      <td>1</td>\n      <td>ea</td>\n    </tr>\n    <tr>\n      <th>3</th>\n      <td>Romaine Heart, 3 Pack</td>\n      <td>6.00</td>\n      <td>6.00</td>\n      <td>$2.00/1ea</td>\n      <td>Fresh Vegetables</td>\n      <td>20067389001_EA</td>\n      <td>https://www.realcanadiansuperstore.ca/romaine-...</td>\n      <td>3</td>\n      <td>pack</td>\n    </tr>\n    <tr>\n      <th>4</th>\n      <td>Red Peppers</td>\n      <td>2.38</td>\n      <td>2.38</td>\n      <td>$9.90/1kg</td>\n      <td>Fresh Vegetables</td>\n      <td>20007535001_KG</td>\n      <td>https://www.realcanadiansuperstore.ca/red-pepp...</td>\n      <td>1</td>\n      <td>ea</td>\n    </tr>\n  </tbody>\n</table>\n</div>"
     },
     "execution_count": 169,
     "metadata": {},
     "output_type": "execute_result"
    }
   ],
   "source": [
    "epicerie_products.head()"
   ],
   "metadata": {
    "collapsed": false,
    "pycharm": {
     "name": "#%%\n"
    }
   }
  },
  {
   "cell_type": "markdown",
   "source": [
    "# Data Preparation"
   ],
   "metadata": {
    "collapsed": false,
    "pycharm": {
     "name": "#%% md\n"
    }
   }
  },
  {
   "cell_type": "markdown",
   "source": [
    "## Typing the columns"
   ],
   "metadata": {
    "collapsed": false,
    "pycharm": {
     "name": "#%% md\n"
    }
   }
  },
  {
   "cell_type": "code",
   "execution_count": 170,
   "outputs": [
    {
     "data": {
      "text/plain": "Name              object\nCurrent Price     object\nPrevious Price    object\nPrice Per Each    object\nCategory          object\nProduct ID        object\nProduct URL       object\nAmount            object\nUnits             object\ndtype: object"
     },
     "execution_count": 170,
     "metadata": {},
     "output_type": "execute_result"
    }
   ],
   "source": [
    "epicerie_products.dtypes"
   ],
   "metadata": {
    "collapsed": false,
    "pycharm": {
     "name": "#%%\n"
    }
   }
  },
  {
   "cell_type": "code",
   "execution_count": 187,
   "outputs": [],
   "source": [
    "# using re to findall non numeric characters in the column and replacing them with empty string\n",
    "epicerie_products['Amount'] = epicerie_products['Amount'].apply(lambda x: re.sub('[^0-9]', '', x)[0]).apply(lambda x: float(x.replace(' ', '').replace(',', '')))"
   ],
   "metadata": {
    "collapsed": false,
    "pycharm": {
     "name": "#%%\n"
    }
   }
  },
  {
   "cell_type": "code",
   "execution_count": 190,
   "outputs": [],
   "source": [
    "epicerie_products_dtypes = {'Name': 'string', 'Current Price': 'float64', 'Previous Price': 'float64', 'Price Per Each':'string', 'Category':'string','Product ID':'string','Product URL':'string', 'Amount': 'int32', 'Units': 'string'}"
   ],
   "metadata": {
    "collapsed": false,
    "pycharm": {
     "name": "#%%\n"
    }
   }
  },
  {
   "cell_type": "code",
   "execution_count": 191,
   "outputs": [],
   "source": [
    "epicerie_products = epicerie_products.astype(epicerie_products_dtypes)"
   ],
   "metadata": {
    "collapsed": false,
    "pycharm": {
     "name": "#%%\n"
    }
   }
  },
  {
   "cell_type": "code",
   "execution_count": 192,
   "outputs": [
    {
     "data": {
      "text/plain": "Name               string\nCurrent Price     float64\nPrevious Price    float64\nPrice Per Each     string\nCategory           string\nProduct ID         string\nProduct URL        string\nAmount              int32\nUnits              string\ndtype: object"
     },
     "execution_count": 192,
     "metadata": {},
     "output_type": "execute_result"
    }
   ],
   "source": [
    "epicerie_products.dtypes"
   ],
   "metadata": {
    "collapsed": false,
    "pycharm": {
     "name": "#%%\n"
    }
   }
  },
  {
   "cell_type": "markdown",
   "source": [
    "##  Feature Engineering the Price Per Each Column to add a new column 'unit_price', to complement the Units feature already present and make the price comparable when deciding the price of a product individually versus when bundled for cost analysis"
   ],
   "metadata": {
    "collapsed": false,
    "pycharm": {
     "name": "#%% md\n"
    }
   }
  },
  {
   "cell_type": "code",
   "execution_count": 163,
   "outputs": [
    {
     "data": {
      "text/plain": "   Units Price Per Each\n0     ea      $1.99/1ea\n1  bunch      $1.29/1ea\n2     ea      $0.99/1ea\n3   pack      $2.00/1ea\n4     ea      $9.90/1kg",
      "text/html": "<div>\n<style scoped>\n    .dataframe tbody tr th:only-of-type {\n        vertical-align: middle;\n    }\n\n    .dataframe tbody tr th {\n        vertical-align: top;\n    }\n\n    .dataframe thead th {\n        text-align: right;\n    }\n</style>\n<table border=\"1\" class=\"dataframe\">\n  <thead>\n    <tr style=\"text-align: right;\">\n      <th></th>\n      <th>Units</th>\n      <th>Price Per Each</th>\n    </tr>\n  </thead>\n  <tbody>\n    <tr>\n      <th>0</th>\n      <td>ea</td>\n      <td>$1.99/1ea</td>\n    </tr>\n    <tr>\n      <th>1</th>\n      <td>bunch</td>\n      <td>$1.29/1ea</td>\n    </tr>\n    <tr>\n      <th>2</th>\n      <td>ea</td>\n      <td>$0.99/1ea</td>\n    </tr>\n    <tr>\n      <th>3</th>\n      <td>pack</td>\n      <td>$2.00/1ea</td>\n    </tr>\n    <tr>\n      <th>4</th>\n      <td>ea</td>\n      <td>$9.90/1kg</td>\n    </tr>\n  </tbody>\n</table>\n</div>"
     },
     "execution_count": 163,
     "metadata": {},
     "output_type": "execute_result"
    }
   ],
   "source": [
    "epicerie_products.loc[:, ['Units', 'Price Per Each']].head()"
   ],
   "metadata": {
    "collapsed": false,
    "pycharm": {
     "name": "#%%\n"
    }
   }
  },
  {
   "cell_type": "code",
   "execution_count": 196,
   "outputs": [],
   "source": [
    "epicerie_products['unit_price'] = epicerie_products['Price Per Each'].apply(lambda x: re.findall('[0-9]+', x)[0])"
   ],
   "metadata": {
    "collapsed": false,
    "pycharm": {
     "name": "#%%\n"
    }
   }
  },
  {
   "cell_type": "code",
   "execution_count": 197,
   "outputs": [],
   "source": [
    "epicerie_products['unit_price'] = epicerie_products['unit_price'].astype('float')"
   ],
   "metadata": {
    "collapsed": false,
    "pycharm": {
     "name": "#%%\n"
    }
   }
  },
  {
   "cell_type": "code",
   "execution_count": 198,
   "outputs": [
    {
     "data": {
      "text/plain": "                              Name  Current Price  Previous Price  \\\n0                 English Cucumber           1.99            1.99   \n1                      Green Onion           1.29            1.29   \n2  Bi-Colour Corn, Corn on the Cob           0.99            0.99   \n3            Romaine Heart, 3 Pack           6.00            6.00   \n4                  Red Peppers               2.38            2.38   \n\n  Price Per Each          Category      Product ID  \\\n0      $1.99/1ea  Fresh Vegetables  20070132001_EA   \n1      $1.29/1ea  Fresh Vegetables  20107500001_EA   \n2      $0.99/1ea  Fresh Vegetables  20131170001_EA   \n3      $2.00/1ea  Fresh Vegetables  20067389001_EA   \n4      $9.90/1kg  Fresh Vegetables  20007535001_KG   \n\n                                         Product URL  Amount  Units  \\\n0  https://www.realcanadiansuperstore.ca/english-...       1     ea   \n1  https://www.realcanadiansuperstore.ca/green-on...       1  bunch   \n2  https://www.realcanadiansuperstore.ca/bi-colou...       1     ea   \n3  https://www.realcanadiansuperstore.ca/romaine-...       3   pack   \n4  https://www.realcanadiansuperstore.ca/red-pepp...       1     ea   \n\n   unit_price  \n0         1.0  \n1         1.0  \n2         0.0  \n3         2.0  \n4         9.0  ",
      "text/html": "<div>\n<style scoped>\n    .dataframe tbody tr th:only-of-type {\n        vertical-align: middle;\n    }\n\n    .dataframe tbody tr th {\n        vertical-align: top;\n    }\n\n    .dataframe thead th {\n        text-align: right;\n    }\n</style>\n<table border=\"1\" class=\"dataframe\">\n  <thead>\n    <tr style=\"text-align: right;\">\n      <th></th>\n      <th>Name</th>\n      <th>Current Price</th>\n      <th>Previous Price</th>\n      <th>Price Per Each</th>\n      <th>Category</th>\n      <th>Product ID</th>\n      <th>Product URL</th>\n      <th>Amount</th>\n      <th>Units</th>\n      <th>unit_price</th>\n    </tr>\n  </thead>\n  <tbody>\n    <tr>\n      <th>0</th>\n      <td>English Cucumber</td>\n      <td>1.99</td>\n      <td>1.99</td>\n      <td>$1.99/1ea</td>\n      <td>Fresh Vegetables</td>\n      <td>20070132001_EA</td>\n      <td>https://www.realcanadiansuperstore.ca/english-...</td>\n      <td>1</td>\n      <td>ea</td>\n      <td>1.0</td>\n    </tr>\n    <tr>\n      <th>1</th>\n      <td>Green Onion</td>\n      <td>1.29</td>\n      <td>1.29</td>\n      <td>$1.29/1ea</td>\n      <td>Fresh Vegetables</td>\n      <td>20107500001_EA</td>\n      <td>https://www.realcanadiansuperstore.ca/green-on...</td>\n      <td>1</td>\n      <td>bunch</td>\n      <td>1.0</td>\n    </tr>\n    <tr>\n      <th>2</th>\n      <td>Bi-Colour Corn, Corn on the Cob</td>\n      <td>0.99</td>\n      <td>0.99</td>\n      <td>$0.99/1ea</td>\n      <td>Fresh Vegetables</td>\n      <td>20131170001_EA</td>\n      <td>https://www.realcanadiansuperstore.ca/bi-colou...</td>\n      <td>1</td>\n      <td>ea</td>\n      <td>0.0</td>\n    </tr>\n    <tr>\n      <th>3</th>\n      <td>Romaine Heart, 3 Pack</td>\n      <td>6.00</td>\n      <td>6.00</td>\n      <td>$2.00/1ea</td>\n      <td>Fresh Vegetables</td>\n      <td>20067389001_EA</td>\n      <td>https://www.realcanadiansuperstore.ca/romaine-...</td>\n      <td>3</td>\n      <td>pack</td>\n      <td>2.0</td>\n    </tr>\n    <tr>\n      <th>4</th>\n      <td>Red Peppers</td>\n      <td>2.38</td>\n      <td>2.38</td>\n      <td>$9.90/1kg</td>\n      <td>Fresh Vegetables</td>\n      <td>20007535001_KG</td>\n      <td>https://www.realcanadiansuperstore.ca/red-pepp...</td>\n      <td>1</td>\n      <td>ea</td>\n      <td>9.0</td>\n    </tr>\n  </tbody>\n</table>\n</div>"
     },
     "execution_count": 198,
     "metadata": {},
     "output_type": "execute_result"
    }
   ],
   "source": [
    "epicerie_products.head()"
   ],
   "metadata": {
    "collapsed": false,
    "pycharm": {
     "name": "#%%\n"
    }
   }
  },
  {
   "cell_type": "code",
   "execution_count": 200,
   "outputs": [
    {
     "data": {
      "text/plain": "Name               string\nCurrent Price     float64\nPrevious Price    float64\nPrice Per Each     string\nCategory           string\nProduct ID         string\nProduct URL        string\nAmount              int32\nUnits              string\nunit_price        float64\ndtype: object"
     },
     "execution_count": 200,
     "metadata": {},
     "output_type": "execute_result"
    }
   ],
   "source": [
    "epicerie_products.dtypes"
   ],
   "metadata": {
    "collapsed": false,
    "pycharm": {
     "name": "#%%\n"
    }
   }
  },
  {
   "cell_type": "markdown",
   "source": [
    "# Exploratory Data Analysis"
   ],
   "metadata": {
    "collapsed": false,
    "pycharm": {
     "name": "#%% md\n"
    }
   }
  },
  {
   "cell_type": "code",
   "execution_count": 210,
   "outputs": [],
   "source": [
    "# selecting all the numeric float64 columns\n",
    "numerical_columns = epicerie_products.select_dtypes(include=['float64'])"
   ],
   "metadata": {
    "collapsed": false,
    "pycharm": {
     "name": "#%%\n"
    }
   }
  },
  {
   "cell_type": "code",
   "execution_count": 216,
   "outputs": [],
   "source": [
    "# adding the columns necessary for our analysis ('Unit' and 'Name')\n",
    "analyse_batch_price = pd.concat([epicerie_products.loc[:, ['Name', 'Units']].copy(deep=True), numerical_columns], axis=1)"
   ],
   "metadata": {
    "collapsed": false,
    "pycharm": {
     "name": "#%%\n"
    }
   }
  },
  {
   "cell_type": "code",
   "execution_count": 219,
   "outputs": [
    {
     "data": {
      "text/plain": "<AxesSubplot:>"
     },
     "execution_count": 219,
     "metadata": {},
     "output_type": "execute_result"
    },
    {
     "data": {
      "text/plain": "<Figure size 640x480 with 1 Axes>",
      "image/png": "[encoded data removed]"
     },
     "metadata": {},
     "output_type": "display_data"
    }
   ],
   "source": [
    "# exploring batch types by making a barchar of Units frequency\n",
    "analyse_batch_price['Units'].value_counts().plot(kind='bar')"
   ],
   "metadata": {
    "collapsed": false,
    "pycharm": {
     "name": "#%%\n"
    }
   }
  },
  {
   "cell_type": "code",
   "execution_count": 220,
   "outputs": [
    {
     "data": {
      "text/plain": "g         10792\nml         3132\nea         1352\nkg         1002\nl           876\nlb           44\neggs         21\nbunch        20\npack         16\nslices        2\nbag           1\npieces        1\nName: Units, dtype: Int64"
     },
     "execution_count": 220,
     "metadata": {},
     "output_type": "execute_result"
    }
   ],
   "source": [
    "# Exploring the names of the most popular units used\n",
    "analyse_batch_price['Units'].value_counts()"
   ],
   "metadata": {
    "collapsed": false,
    "pycharm": {
     "name": "#%%\n"
    }
   }
  },
  {
   "cell_type": "code",
   "execution_count": 229,
   "outputs": [
    {
     "data": {
      "text/plain": "<AxesSubplot:xlabel='Units'>"
     },
     "execution_count": 229,
     "metadata": {},
     "output_type": "execute_result"
    },
    {
     "data": {
      "text/plain": "<Figure size 640x480 with 1 Axes>",
      "image/png": "[encoded data removed]"
     },
     "metadata": {},
     "output_type": "display_data"
    }
   ],
   "source": [
    "analyse_batch_price.groupby('Units').mean().plot(kind='bar')"
   ],
   "metadata": {
    "collapsed": false,
    "pycharm": {
     "name": "#%%\n"
    }
   }
  },
  {
   "cell_type": "markdown",
   "source": [
    "# Conclusion\n",
    "The unit price of each implies that the product name is indivisable. For example, 'each apple' would imply the unit is the same price as the current price (or we would suppose given common sense). This chart shows that the unit price of each is almost consistently the same as the current price which would fit my naive understanding. We notice quickly that almost all of the Units' features categories have unit_prices that are lower than the Current Price or Previous Price. This implies that the unit price is lower than the price of the product when bought in bulk. This is a good sanity check to ensure that the data and our understanding of the unit types is correct."
   ],
   "metadata": {
    "collapsed": false,
    "pycharm": {
     "name": "#%% md\n"
    }
   }
  }
 ],
 "metadata": {
  "kernelspec": {
   "display_name": "Python 3",
   "language": "python",
   "name": "python3"
  },
  "language_info": {
   "codemirror_mode": {
    "name": "ipython",
    "version": 2
   },
   "file_extension": ".py",
   "mimetype": "text/x-python",
   "name": "python",
   "nbconvert_exporter": "python",
   "pygments_lexer": "ipython2",
   "version": "2.7.6"
  }
 },
 "nbformat": 4,
 "nbformat_minor": 0
}