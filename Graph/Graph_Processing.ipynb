{
 "cells": [
  {
   "cell_type": "code",
   "execution_count": 57,
   "metadata": {
    "collapsed": true,
    "pycharm": {
     "name": "#%%\n"
    }
   },
   "outputs": [],
   "source": [
    "import os\n",
    "import pandas as pd\n",
    "import torch\n",
    "from ogb.graphproppred import PygGraphPropPredDataset\n",
    "from torch_geometric.data import DataLoader\n",
    "from ogb.graphproppred.mol_encoder import AtomEncoder, BondEncoder\n",
    "from ogb.utils.features import (allowable_features, atom_to_feature_vector,\n",
    "                                bond_to_feature_vector, atom_feature_vector_to_dict, bond_feature_vector_to_dict)\n",
    "from rdkit import Chem\n",
    "import numpy as np"
   ]
  },
  {
   "cell_type": "markdown",
   "source": [
    "# Extracting the Data using the OGB (Open Graph Benchmark) Library\n",
    "The dataset we will be using is the OGBG-Molhiv dataset which is a molecular property prediction dataset adopted from MoleuleNet\n",
    "1. Each Graph represents a molecule, where nodes are atoms, and edges are chemical bonds.\n",
    "2. Input node features are 9-dimensional, containing atomic number, chirality, and formal charge and additional atom features."
   ],
   "metadata": {
    "collapsed": false,
    "pycharm": {
     "name": "#%% md\n"
    }
   }
  },
  {
   "cell_type": "code",
   "execution_count": 20,
   "outputs": [],
   "source": [
    "data_directory = 'molecular_property_graph/'\n",
    "sub_directory = 'ogbg_molhiv/'"
   ],
   "metadata": {
    "collapsed": false,
    "pycharm": {
     "name": "#%%\n"
    }
   }
  },
  {
   "cell_type": "code",
   "execution_count": 12,
   "outputs": [
    {
     "name": "stdout",
     "output_type": "stream",
     "text": [
      "Downloading http://snap.stanford.edu/ogb/data/graphproppred/csv_mol_download/hiv.zip\n"
     ]
    },
    {
     "name": "stderr",
     "output_type": "stream",
     "text": [
      "Downloaded 0.00 GB: 100%|██████████| 3/3 [00:00<00:00,  3.85it/s]\n",
      "Processing...\n"
     ]
    },
    {
     "name": "stdout",
     "output_type": "stream",
     "text": [
      "Extracting molecular_property_graph/hiv.zip\n",
      "Loading necessary files...\n",
      "This might take a while.\n",
      "Processing graphs...\n"
     ]
    },
    {
     "name": "stderr",
     "output_type": "stream",
     "text": [
      "100%|██████████| 41127/41127 [00:01<00:00, 30404.24it/s]\n"
     ]
    },
    {
     "name": "stdout",
     "output_type": "stream",
     "text": [
      "Converting graphs into PyG objects...\n"
     ]
    },
    {
     "name": "stderr",
     "output_type": "stream",
     "text": [
      "100%|██████████| 41127/41127 [00:01<00:00, 21630.41it/s]\n"
     ]
    },
    {
     "name": "stdout",
     "output_type": "stream",
     "text": [
      "Saving...\n"
     ]
    },
    {
     "name": "stderr",
     "output_type": "stream",
     "text": [
      "Done!\n"
     ]
    }
   ],
   "source": [
    "# Download and process data at './dataset/ogbg_molhiv/'\n",
    "dataset = PygGraphPropPredDataset(name = \"ogbg-molhiv\", root = data_directory)"
   ],
   "metadata": {
    "collapsed": false,
    "pycharm": {
     "name": "#%%\n"
    }
   }
  },
  {
   "cell_type": "code",
   "execution_count": 9,
   "outputs": [],
   "source": [
    "def get_directories(path):\n",
    "    \"\"\"\n",
    "    Return a list of directory names within the specified path.\n",
    "    \"\"\"\n",
    "    # List for storing directory names\n",
    "    directories = []\n",
    "\n",
    "    # List all files and directories in the specified path\n",
    "    for entry in os.listdir(path):\n",
    "        # Construct the full path\n",
    "        full_path = os.path.join(path, entry)\n",
    "\n",
    "        # Check if the entry is a directory\n",
    "        if os.path.isdir(full_path):\n",
    "            directories.append(entry)\n",
    "\n",
    "    return directories"
   ],
   "metadata": {
    "collapsed": false,
    "pycharm": {
     "name": "#%%\n"
    }
   }
  },
  {
   "cell_type": "code",
   "execution_count": 21,
   "outputs": [],
   "source": [
    "# Get the list of directories\n",
    "graph_dir_list = get_directories(data_directory + sub_directory)"
   ],
   "metadata": {
    "collapsed": false,
    "pycharm": {
     "name": "#%%\n"
    }
   }
  },
  {
   "cell_type": "code",
   "execution_count": 23,
   "outputs": [
    {
     "data": {
      "text/plain": "['split', 'mapping', 'processed', 'raw']"
     },
     "execution_count": 23,
     "metadata": {},
     "output_type": "execute_result"
    }
   ],
   "source": [
    "graph_dir_list"
   ],
   "metadata": {
    "collapsed": false,
    "pycharm": {
     "name": "#%%\n"
    }
   }
  },
  {
   "cell_type": "markdown",
   "source": [
    "We notice that there are four main directories, namely: raw & split, which contain the csv data's in zip format. The other two directories are processed and processed_smiles, which contain the processed data in the form of pytorch geometric data objects."
   ],
   "metadata": {
    "collapsed": false,
    "pycharm": {
     "name": "#%% md\n"
    }
   }
  },
  {
   "cell_type": "markdown",
   "source": [
    "# Data Preparation"
   ],
   "metadata": {
    "collapsed": false,
    "pycharm": {
     "name": "#%% md\n"
    }
   }
  },
  {
   "cell_type": "markdown",
   "source": [
    "## Unprocessed CSV Data"
   ],
   "metadata": {
    "collapsed": false,
    "pycharm": {
     "name": "#%% md\n"
    }
   }
  },
  {
   "cell_type": "code",
   "execution_count": 29,
   "outputs": [],
   "source": [
    "# Loading a sample csv data of graph labels & train data for investigation\n",
    "# Path to the zip file\n",
    "label_zip_path = data_directory + sub_directory + 'raw/graph-label.csv.gz'\n",
    "train_zip_path = data_directory + sub_directory + 'split/scaffold/train.csv.gz'"
   ],
   "metadata": {
    "collapsed": false,
    "pycharm": {
     "name": "#%%\n"
    }
   }
  },
  {
   "cell_type": "code",
   "execution_count": 32,
   "outputs": [],
   "source": [
    "graph_labels = pd.read_csv(label_zip_path, compression='gzip')\n",
    "graph_train = pd.read_csv(train_zip_path, compression='gzip')"
   ],
   "metadata": {
    "collapsed": false,
    "pycharm": {
     "name": "#%%\n"
    }
   }
  },
  {
   "cell_type": "markdown",
   "source": [
    "## Processed CSV Data (Graph)"
   ],
   "metadata": {
    "collapsed": false,
    "pycharm": {
     "name": "#%% md\n"
    }
   }
  },
  {
   "cell_type": "code",
   "execution_count": 61,
   "outputs": [],
   "source": [
    "# these functions taken from here: https://github.com/snap-stanford/ogb/blob/master/ogb/utils/mol.py\n",
    "def ReorderCanonicalRankAtoms(mol):\n",
    "    order = tuple(zip(*sorted([(j, i) for i, j in enumerate(Chem.CanonicalRankAtoms(mol))])))[1]\n",
    "    mol_renum = Chem.RenumberAtoms(mol, order)\n",
    "    return mol_renum, order\n",
    "\n",
    "def smiles2graph(smiles_string, removeHs=True, reorder_atoms=False):\n",
    "    \"\"\"\n",
    "    Converts SMILES string to graph Data object\n",
    "    :input: SMILES string (str)\n",
    "    :return: graph object\n",
    "    \"\"\"\n",
    "\n",
    "    mol = Chem.MolFromSmiles(smiles_string)\n",
    "    mol = mol if removeHs else Chem.AddHs(mol)\n",
    "    if reorder_atoms:\n",
    "        mol, _ = ReorderCanonicalRankAtoms(mol)\n",
    "\n",
    "    # atoms\n",
    "    atom_features_list = []\n",
    "    for atom in mol.GetAtoms():\n",
    "        atom_features_list.append(atom_to_feature_vector(atom))\n",
    "    x = np.array(atom_features_list, dtype = np.int64)\n",
    "\n",
    "    # bonds\n",
    "    num_bond_features = 3  # bond type, bond stereo, is_conjugated\n",
    "    if len(mol.GetBonds()) > 0: # mol has bonds\n",
    "        edges_list = []\n",
    "        edge_features_list = []\n",
    "        for bond in mol.GetBonds():\n",
    "            i = bond.GetBeginAtomIdx()\n",
    "            j = bond.GetEndAtomIdx()\n",
    "\n",
    "            edge_feature = bond_to_feature_vector(bond)\n",
    "\n",
    "            # add edges in both directions\n",
    "            edges_list.append((i, j))\n",
    "            edge_features_list.append(edge_feature)\n",
    "            edges_list.append((j, i))\n",
    "            edge_features_list.append(edge_feature)\n",
    "\n",
    "        # data.edge_index: Graph connectivity in COO format with shape [2, num_edges]\n",
    "        edge_index = np.array(edges_list, dtype = np.int64).T\n",
    "\n",
    "        # data.edge_attr: Edge feature matrix with shape [num_edges, num_edge_features]\n",
    "        edge_attr = np.array(edge_features_list, dtype = np.int64)\n",
    "\n",
    "    else:   # mol has no bonds\n",
    "        edge_index = np.empty((2, 0), dtype = np.int64)\n",
    "        edge_attr = np.empty((0, num_bond_features), dtype = np.int64)\n",
    "\n",
    "    graph = dict()\n",
    "    graph['edge_index'] = edge_index\n",
    "    graph['edge_feat'] = edge_attr\n",
    "    graph['node_feat'] = x\n",
    "    graph['num_nodes'] = len(x)\n",
    "\n",
    "    return graph\n",
    "\n",
    "\n",
    "if __name__ == '__main__':\n",
    "    graph = smiles2graph('O1C=C[C@H]([C@H]1O2)c3c2cc(OC)c4c3OC(=O)C5=C4CCC(=O)5')"
   ],
   "metadata": {
    "collapsed": false,
    "pycharm": {
     "name": "#%%\n"
    }
   }
  },
  {
   "cell_type": "markdown",
   "source": [
    "We can see that node_feat has more columns than edge feat, which aligns with the description from the data source - where nodes are atoms with multiple features, and edges are chemical bonds with fewer features."
   ],
   "metadata": {
    "collapsed": false,
    "pycharm": {
     "name": "#%% md\n"
    }
   }
  },
  {
   "cell_type": "code",
   "execution_count": 63,
   "outputs": [
    {
     "data": {
      "text/plain": "array([[7, 0, 2, 5, 0, 0, 1, 0, 1],\n       [5, 0, 3, 5, 1, 0, 1, 0, 1],\n       [5, 0, 3, 5, 1, 0, 1, 0, 1],\n       [5, 2, 4, 5, 1, 0, 2, 0, 1],\n       [5, 1, 4, 5, 1, 0, 2, 0, 1]])"
     },
     "execution_count": 63,
     "metadata": {},
     "output_type": "execute_result"
    }
   ],
   "source": [
    "graph['node_feat'][:5, :]"
   ],
   "metadata": {
    "collapsed": false,
    "pycharm": {
     "name": "#%%\n"
    }
   }
  },
  {
   "cell_type": "code",
   "execution_count": 62,
   "outputs": [
    {
     "data": {
      "text/plain": "array([[0, 0, 1],\n       [0, 0, 1],\n       [1, 0, 1],\n       [1, 0, 1],\n       [0, 0, 0]])"
     },
     "execution_count": 62,
     "metadata": {},
     "output_type": "execute_result"
    }
   ],
   "source": [
    "graph['edge_feat'][:5, :]"
   ],
   "metadata": {
    "collapsed": false,
    "pycharm": {
     "name": "#%%\n"
    }
   }
  },
  {
   "cell_type": "markdown",
   "source": [
    "## Feature Engineering (Encoding)"
   ],
   "metadata": {
    "collapsed": false,
    "pycharm": {
     "name": "#%% md\n"
    }
   }
  },
  {
   "cell_type": "code",
   "execution_count": 58,
   "outputs": [],
   "source": [
    "atom_encoder = AtomEncoder(emb_dim = 100)\n",
    "bond_encoder = BondEncoder(emb_dim = 100)\n",
    "\n",
    "atom_emb = atom_encoder(torch.from_numpy(graph['node_feat'])) # x is input atom feature\n",
    "edge_emb = bond_encoder(torch.from_numpy(graph['edge_feat'])) # edge_attr is input edge feature\n"
   ],
   "metadata": {
    "collapsed": false,
    "pycharm": {
     "name": "#%%\n"
    }
   }
  },
  {
   "cell_type": "markdown",
   "source": [
    "## Dataloaders for Pytorch Geometric Models"
   ],
   "metadata": {
    "collapsed": false,
    "pycharm": {
     "name": "#%% md\n"
    }
   }
  },
  {
   "cell_type": "code",
   "execution_count": null,
   "outputs": [],
   "source": [
    "# Using the torch data loader for preparation for a Machine Learning Model\n",
    "split_idx = dataset.get_idx_split()\n",
    "train_loader = DataLoader(dataset[split_idx[\"train\"]], batch_size=32, shuffle=True)\n",
    "valid_loader = DataLoader(dataset[split_idx[\"valid\"]], batch_size=32, shuffle=False)\n",
    "test_loader = DataLoader(dataset[split_idx[\"test\"]], batch_size=32, shuffle=False)"
   ],
   "metadata": {
    "collapsed": false,
    "pycharm": {
     "name": "#%%\n"
    }
   }
  },
  {
   "cell_type": "markdown",
   "source": [],
   "metadata": {
    "collapsed": false,
    "pycharm": {
     "name": "#%% md\n"
    }
   }
  },
  {
   "cell_type": "markdown",
   "source": [
    "# Exploratory Data Analysis"
   ],
   "metadata": {
    "collapsed": false,
    "pycharm": {
     "name": "#%% md\n"
    }
   }
  },
  {
   "cell_type": "markdown",
   "source": [
    "## Unprocessed CSV Data"
   ],
   "metadata": {
    "collapsed": false,
    "pycharm": {
     "name": "#%% md\n"
    }
   }
  },
  {
   "cell_type": "markdown",
   "source": [
    "From the looks of the graph labels, it is a binary classification problem, where the label is 1  or 0, depending on whether the molecule is active or not."
   ],
   "metadata": {
    "collapsed": false,
    "pycharm": {
     "name": "#%% md\n"
    }
   }
  },
  {
   "cell_type": "code",
   "execution_count": 39,
   "outputs": [
    {
     "data": {
      "text/plain": "0\n0    39683\n1     1443\nName: count, dtype: int64"
     },
     "execution_count": 39,
     "metadata": {},
     "output_type": "execute_result"
    }
   ],
   "source": [
    "graph_labels.value_counts()"
   ],
   "metadata": {
    "collapsed": false,
    "pycharm": {
     "name": "#%%\n"
    }
   }
  },
  {
   "cell_type": "markdown",
   "source": [
    "From the looks of the describe function, the graph_train dataset has values that range in the same domain as the index, which is 0 to 41126. This may be a method by which the data is encoded and may be key to accessing the nodes. On its' own, it doesn't seem to be of much use."
   ],
   "metadata": {
    "collapsed": false,
    "pycharm": {
     "name": "#%% md\n"
    }
   }
  },
  {
   "cell_type": "code",
   "execution_count": 46,
   "outputs": [
    {
     "data": {
      "text/plain": "                  3\ncount  32900.000000\nmean   22999.375441\nstd    11683.650345\nmin        4.000000\n25%    13688.750000\n50%    24676.500000\n75%    32901.250000\nmax    41126.000000",
      "text/html": "<div>\n<style scoped>\n    .dataframe tbody tr th:only-of-type {\n        vertical-align: middle;\n    }\n\n    .dataframe tbody tr th {\n        vertical-align: top;\n    }\n\n    .dataframe thead th {\n        text-align: right;\n    }\n</style>\n<table border=\"1\" class=\"dataframe\">\n  <thead>\n    <tr style=\"text-align: right;\">\n      <th></th>\n      <th>3</th>\n    </tr>\n  </thead>\n  <tbody>\n    <tr>\n      <th>count</th>\n      <td>32900.000000</td>\n    </tr>\n    <tr>\n      <th>mean</th>\n      <td>22999.375441</td>\n    </tr>\n    <tr>\n      <th>std</th>\n      <td>11683.650345</td>\n    </tr>\n    <tr>\n      <th>min</th>\n      <td>4.000000</td>\n    </tr>\n    <tr>\n      <th>25%</th>\n      <td>13688.750000</td>\n    </tr>\n    <tr>\n      <th>50%</th>\n      <td>24676.500000</td>\n    </tr>\n    <tr>\n      <th>75%</th>\n      <td>32901.250000</td>\n    </tr>\n    <tr>\n      <th>max</th>\n      <td>41126.000000</td>\n    </tr>\n  </tbody>\n</table>\n</div>"
     },
     "execution_count": 46,
     "metadata": {},
     "output_type": "execute_result"
    }
   ],
   "source": [
    "graph_train.describe()"
   ],
   "metadata": {
    "collapsed": false,
    "pycharm": {
     "name": "#%%\n"
    }
   }
  },
  {
   "cell_type": "markdown",
   "source": [
    "Printing the shape of the data shows us that the label and training data records do not share the same shape, and so this is telling us that they aren't meant to be used individually, as a machine learning model may not be able to process this data as-is as the labels will be unable to be paired with the training data due to differing dimensions. It may be more effective to investigate the processed data, that was stored in the processed folder as pytorch files and was used by the dataloaders to train the model."
   ],
   "metadata": {
    "collapsed": false,
    "pycharm": {
     "name": "#%% md\n"
    }
   }
  },
  {
   "cell_type": "code",
   "execution_count": 38,
   "outputs": [
    {
     "name": "stdout",
     "output_type": "stream",
     "text": [
      "(41126, 1)\n",
      "(32900, 1)\n"
     ]
    }
   ],
   "source": [
    "print(graph_labels.shape)\n",
    "print(graph_train.shape)"
   ],
   "metadata": {
    "collapsed": false,
    "pycharm": {
     "name": "#%%\n"
    }
   }
  },
  {
   "cell_type": "markdown",
   "source": [
    "## Processed CSV Data (Graph)"
   ],
   "metadata": {
    "collapsed": false,
    "pycharm": {
     "name": "#%% md\n"
    }
   }
  },
  {
   "cell_type": "markdown",
   "source": [
    "Exploring the processed data, we can see that the node_feat and edge_feat are the features of the atoms and bonds respectively. The graph does not contain the column names due to the encoding process or for other reasons, and so we will have to refer to the data source to understand what each column represents. However, we do notice that the processed data has more information rich features with variables that have a more descriptive distribution than that of the unprocessed data."
   ],
   "metadata": {
    "collapsed": false,
    "pycharm": {
     "name": "#%% md\n"
    }
   }
  },
  {
   "cell_type": "code",
   "execution_count": 67,
   "outputs": [
    {
     "data": {
      "text/plain": "               0          1          2     3          4     5          6  \\\ncount  23.000000  23.000000  23.000000  23.0  23.000000  23.0  23.000000   \nmean    5.521739   0.130435   2.869565   5.0   0.521739   0.0   1.217391   \nstd     0.897956   0.457697   0.868873   0.0   0.845822   0.0   0.421741   \nmin     5.000000   0.000000   1.000000   5.0   0.000000   0.0   1.000000   \n25%     5.000000   0.000000   2.500000   5.0   0.000000   0.0   1.000000   \n50%     5.000000   0.000000   3.000000   5.0   0.000000   0.0   1.000000   \n75%     6.000000   0.000000   3.000000   5.0   1.000000   0.0   1.000000   \nmax     7.000000   2.000000   4.000000   5.0   3.000000   0.0   2.000000   \n\n               7          8  \ncount  23.000000  23.000000  \nmean    0.434783   0.826087  \nstd     0.506870   0.387553  \nmin     0.000000   0.000000  \n25%     0.000000   1.000000  \n50%     0.000000   1.000000  \n75%     1.000000   1.000000  \nmax     1.000000   1.000000  ",
      "text/html": "<div>\n<style scoped>\n    .dataframe tbody tr th:only-of-type {\n        vertical-align: middle;\n    }\n\n    .dataframe tbody tr th {\n        vertical-align: top;\n    }\n\n    .dataframe thead th {\n        text-align: right;\n    }\n</style>\n<table border=\"1\" class=\"dataframe\">\n  <thead>\n    <tr style=\"text-align: right;\">\n      <th></th>\n      <th>0</th>\n      <th>1</th>\n      <th>2</th>\n      <th>3</th>\n      <th>4</th>\n      <th>5</th>\n      <th>6</th>\n      <th>7</th>\n      <th>8</th>\n    </tr>\n  </thead>\n  <tbody>\n    <tr>\n      <th>count</th>\n      <td>23.000000</td>\n      <td>23.000000</td>\n      <td>23.000000</td>\n      <td>23.0</td>\n      <td>23.000000</td>\n      <td>23.0</td>\n      <td>23.000000</td>\n      <td>23.000000</td>\n      <td>23.000000</td>\n    </tr>\n    <tr>\n      <th>mean</th>\n      <td>5.521739</td>\n      <td>0.130435</td>\n      <td>2.869565</td>\n      <td>5.0</td>\n      <td>0.521739</td>\n      <td>0.0</td>\n      <td>1.217391</td>\n      <td>0.434783</td>\n      <td>0.826087</td>\n    </tr>\n    <tr>\n      <th>std</th>\n      <td>0.897956</td>\n      <td>0.457697</td>\n      <td>0.868873</td>\n      <td>0.0</td>\n      <td>0.845822</td>\n      <td>0.0</td>\n      <td>0.421741</td>\n      <td>0.506870</td>\n      <td>0.387553</td>\n    </tr>\n    <tr>\n      <th>min</th>\n      <td>5.000000</td>\n      <td>0.000000</td>\n      <td>1.000000</td>\n      <td>5.0</td>\n      <td>0.000000</td>\n      <td>0.0</td>\n      <td>1.000000</td>\n      <td>0.000000</td>\n      <td>0.000000</td>\n    </tr>\n    <tr>\n      <th>25%</th>\n      <td>5.000000</td>\n      <td>0.000000</td>\n      <td>2.500000</td>\n      <td>5.0</td>\n      <td>0.000000</td>\n      <td>0.0</td>\n      <td>1.000000</td>\n      <td>0.000000</td>\n      <td>1.000000</td>\n    </tr>\n    <tr>\n      <th>50%</th>\n      <td>5.000000</td>\n      <td>0.000000</td>\n      <td>3.000000</td>\n      <td>5.0</td>\n      <td>0.000000</td>\n      <td>0.0</td>\n      <td>1.000000</td>\n      <td>0.000000</td>\n      <td>1.000000</td>\n    </tr>\n    <tr>\n      <th>75%</th>\n      <td>6.000000</td>\n      <td>0.000000</td>\n      <td>3.000000</td>\n      <td>5.0</td>\n      <td>1.000000</td>\n      <td>0.0</td>\n      <td>1.000000</td>\n      <td>1.000000</td>\n      <td>1.000000</td>\n    </tr>\n    <tr>\n      <th>max</th>\n      <td>7.000000</td>\n      <td>2.000000</td>\n      <td>4.000000</td>\n      <td>5.0</td>\n      <td>3.000000</td>\n      <td>0.0</td>\n      <td>2.000000</td>\n      <td>1.000000</td>\n      <td>1.000000</td>\n    </tr>\n  </tbody>\n</table>\n</div>"
     },
     "execution_count": 67,
     "metadata": {},
     "output_type": "execute_result"
    }
   ],
   "source": [
    "atom_features = pd.DataFrame(graph['node_feat'])\n",
    "atom_features.describe()"
   ],
   "metadata": {
    "collapsed": false,
    "pycharm": {
     "name": "#%%\n"
    }
   }
  },
  {
   "cell_type": "code",
   "execution_count": 68,
   "outputs": [
    {
     "data": {
      "text/plain": "               0     1          2\ncount  54.000000  54.0  54.000000\nmean    1.333333   0.0   0.666667\nstd     1.427493   0.0   0.475831\nmin     0.000000   0.0   0.000000\n25%     0.000000   0.0   0.000000\n50%     1.000000   0.0   1.000000\n75%     3.000000   0.0   1.000000\nmax     3.000000   0.0   1.000000",
      "text/html": "<div>\n<style scoped>\n    .dataframe tbody tr th:only-of-type {\n        vertical-align: middle;\n    }\n\n    .dataframe tbody tr th {\n        vertical-align: top;\n    }\n\n    .dataframe thead th {\n        text-align: right;\n    }\n</style>\n<table border=\"1\" class=\"dataframe\">\n  <thead>\n    <tr style=\"text-align: right;\">\n      <th></th>\n      <th>0</th>\n      <th>1</th>\n      <th>2</th>\n    </tr>\n  </thead>\n  <tbody>\n    <tr>\n      <th>count</th>\n      <td>54.000000</td>\n      <td>54.0</td>\n      <td>54.000000</td>\n    </tr>\n    <tr>\n      <th>mean</th>\n      <td>1.333333</td>\n      <td>0.0</td>\n      <td>0.666667</td>\n    </tr>\n    <tr>\n      <th>std</th>\n      <td>1.427493</td>\n      <td>0.0</td>\n      <td>0.475831</td>\n    </tr>\n    <tr>\n      <th>min</th>\n      <td>0.000000</td>\n      <td>0.0</td>\n      <td>0.000000</td>\n    </tr>\n    <tr>\n      <th>25%</th>\n      <td>0.000000</td>\n      <td>0.0</td>\n      <td>0.000000</td>\n    </tr>\n    <tr>\n      <th>50%</th>\n      <td>1.000000</td>\n      <td>0.0</td>\n      <td>1.000000</td>\n    </tr>\n    <tr>\n      <th>75%</th>\n      <td>3.000000</td>\n      <td>0.0</td>\n      <td>1.000000</td>\n    </tr>\n    <tr>\n      <th>max</th>\n      <td>3.000000</td>\n      <td>0.0</td>\n      <td>1.000000</td>\n    </tr>\n  </tbody>\n</table>\n</div>"
     },
     "execution_count": 68,
     "metadata": {},
     "output_type": "execute_result"
    }
   ],
   "source": [
    "chemicalbond_features = pd.DataFrame(graph['edge_feat'])\n",
    "chemicalbond_features.describe()"
   ],
   "metadata": {
    "collapsed": false,
    "pycharm": {
     "name": "#%%\n"
    }
   }
  }
 ],
 "metadata": {
  "kernelspec": {
   "name": "dataenv",
   "language": "python",
   "display_name": "data env"
  },
  "language_info": {
   "codemirror_mode": {
    "name": "ipython",
    "version": 2
   },
   "file_extension": ".py",
   "mimetype": "text/x-python",
   "name": "python",
   "nbconvert_exporter": "python",
   "pygments_lexer": "ipython2",
   "version": "2.7.6"
  }
 },
 "nbformat": 4,
 "nbformat_minor": 0
}